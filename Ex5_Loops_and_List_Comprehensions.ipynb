{
  "nbformat": 4,
  "nbformat_minor": 0,
  "metadata": {
    "kernelspec": {
      "display_name": "Python 3",
      "language": "python",
      "name": "python3"
    },
    "language_info": {
      "codemirror_mode": {
        "name": "ipython",
        "version": 3
      },
      "file_extension": ".py",
      "mimetype": "text/x-python",
      "name": "python",
      "nbconvert_exporter": "python",
      "pygments_lexer": "ipython3",
      "version": "3.6.5"
    },
    "learntools_metadata": {
      "lesson_index": 4,
      "type": "exercise"
    },
    "colab": {
      "name": "Ex5_Loops and List Comprehensions.ipynb",
      "provenance": [],
      "toc_visible": true,
      "include_colab_link": true
    }
  },
  "cells": [
    {
      "cell_type": "markdown",
      "metadata": {
        "id": "view-in-github",
        "colab_type": "text"
      },
      "source": [
        "<a href=\"https://colab.research.google.com/github/regina-morell/machine-learning/blob/master/Ex5_Loops_and_List_Comprehensions.ipynb\" target=\"_parent\"><img src=\"https://colab.research.google.com/assets/colab-badge.svg\" alt=\"Open In Colab\"/></a>"
      ]
    },
    {
      "cell_type": "markdown",
      "metadata": {
        "id": "Py1R6ykXXoZK",
        "colab_type": "text"
      },
      "source": [
        "**[Week 1 - Python](https://radu-enuca.gitbook.io/ml-challenge/python)**\n",
        "\n",
        "---\n"
      ]
    },
    {
      "cell_type": "markdown",
      "metadata": {
        "id": "u-O03ZUYXoZU",
        "colab_type": "text"
      },
      "source": [
        "# Setup\n",
        "\n",
        "To get started, **run the setup code below** before writing your own code (and if you leave this notebook and come back later, don't forget to run the setup code again)."
      ]
    },
    {
      "cell_type": "code",
      "metadata": {
        "id": "78NWs1VLXoZY",
        "colab_type": "code",
        "outputId": "a57a5988-8609-4a4e-d5a7-926983f3bc78",
        "colab": {
          "base_uri": "https://localhost:8080/",
          "height": 204
        }
      },
      "source": [
        "# if you're using Google Colab run this cell to install extra libraries\n",
        "!pip install git+https://github.com/ML-Challenge/learntools.git"
      ],
      "execution_count": 0,
      "outputs": [
        {
          "output_type": "stream",
          "text": [
            "Collecting git+https://github.com/ML-Challenge/learntools.git\n",
            "  Cloning https://github.com/ML-Challenge/learntools.git to /tmp/pip-req-build-yvkyi5tp\n",
            "  Running command git clone -q https://github.com/ML-Challenge/learntools.git /tmp/pip-req-build-yvkyi5tp\n",
            "Building wheels for collected packages: learntools\n",
            "  Building wheel for learntools (setup.py) ... \u001b[?25l\u001b[?25hdone\n",
            "  Created wheel for learntools: filename=learntools-0.3.4-cp36-none-any.whl size=207295 sha256=96e02b10f5637347e6991bce9f07fe93c5f4670d9df43c833e9d23102ceb297e\n",
            "  Stored in directory: /tmp/pip-ephem-wheel-cache-dlz6cebh/wheels/80/69/91/11d580f9fabc3c94420a07ff947597bfd7a588e787187e4dfe\n",
            "Successfully built learntools\n",
            "Installing collected packages: learntools\n",
            "Successfully installed learntools-0.3.4\n"
          ],
          "name": "stdout"
        }
      ]
    },
    {
      "cell_type": "code",
      "metadata": {
        "id": "mRq2bS8SXoZm",
        "colab_type": "code",
        "outputId": "a7b23501-117c-45f5-8eec-9d4f2099b4ec",
        "colab": {
          "base_uri": "https://localhost:8080/",
          "height": 33
        }
      },
      "source": [
        "from learntools.core import binder; binder.bind(globals())\n",
        "from learntools.python.ex5 import *\n",
        "print('Setup complete.')"
      ],
      "execution_count": 0,
      "outputs": [
        {
          "output_type": "stream",
          "text": [
            "Setup complete.\n"
          ],
          "name": "stdout"
        }
      ]
    },
    {
      "cell_type": "markdown",
      "metadata": {
        "id": "cPRK5P7MXoZw",
        "colab_type": "text"
      },
      "source": [
        "# Exercises"
      ]
    },
    {
      "cell_type": "markdown",
      "metadata": {
        "id": "bZ4lBnBBXoZy",
        "colab_type": "text"
      },
      "source": [
        "## 1.\n",
        "\n",
        "Have you ever felt debugging involved a bit of luck? The following program has a bug. Try to identify the bug and fix it."
      ]
    },
    {
      "cell_type": "markdown",
      "metadata": {
        "id": "UHYYcP_NXoZ0",
        "colab_type": "text"
      },
      "source": [
        "```\n",
        "def has_lucky_number(nums):\n",
        "    \"\"\"Return whether the given list of numbers is lucky. A lucky list contains\n",
        "    at least one number divisible by 7.\n",
        "    \"\"\"\n",
        "    for num in nums:\n",
        "        if num % 7 == 0:\n",
        "            return True\n",
        "        else:\n",
        "            return False\n",
        "```"
      ]
    },
    {
      "cell_type": "markdown",
      "metadata": {
        "id": "po3PCnd0XoZ1",
        "colab_type": "text"
      },
      "source": [
        "Try to identify the bug and fix it in the cell below:"
      ]
    },
    {
      "cell_type": "code",
      "metadata": {
        "id": "tdzIdGj0XoZ3",
        "colab_type": "code",
        "outputId": "3c31e03a-3d3c-41a3-ee0f-338b5223b91a",
        "colab": {
          "base_uri": "https://localhost:8080/",
          "height": 354
        }
      },
      "source": [
        "def has_lucky_number(nums):\n",
        "    \"\"\"Return whether the given list of numbers is lucky. A lucky list contains\n",
        "    at least one number divisible by 7.\n",
        "    \"\"\"\n",
        "    lucky =0\n",
        "    for num in nums:\n",
        "        if num % 7 == 0:\n",
        "            lucky = lucky +1\n",
        "        \n",
        "    return lucky >0\n",
        "\n",
        "# Check your answer\n",
        "q1.check()"
      ],
      "execution_count": 0,
      "outputs": [
        {
          "output_type": "display_data",
          "data": {
            "application/javascript": [
              "parent.postMessage({\"jupyterEvent\": \"custom.exercise_interaction\", \"data\": {\"outcomeType\": 1, \"valueTowardsCompletion\": 0.25, \"interactionType\": 1, \"questionType\": 2, \"questionId\": \"1_EarlyExitDebugging\", \"learnToolsVersion\": \"0.3.4\", \"failureMessage\": \"\", \"exceptionClass\": \"\", \"trace\": \"\"}}, \"*\")"
            ],
            "text/plain": [
              "<IPython.core.display.Javascript object>"
            ]
          },
          "metadata": {
            "tags": []
          }
        },
        {
          "output_type": "display_data",
          "data": {
            "text/markdown": "<span style=\"color:#33cc33\">Correct:</span> \n\nRemember that `return` causes a function to exit immediately. So our original implementation always ran for just one iteration. We can only return `False` if we've looked at every element of the list (and confirmed that none of them are lucky). Though we can return early if the answer is `True`:\n\n```python\ndef has_lucky_number(nums):\n    for num in nums:\n        if num % 7 == 0:\n            return True\n    # We've exhausted the list without finding a lucky number\n    return False\n```\n\nHere's a one-line version using a list comprehension with Python's `any` function (you can read about what it does by calling `help(any)`):\n\n```python\ndef has_lucky_number(nums):\n    return any([num % 7 == 0 for num in nums])\n```\n",
            "text/plain": [
              "Correct: \n",
              "\n",
              "Remember that `return` causes a function to exit immediately. So our original implementation always ran for just one iteration. We can only return `False` if we've looked at every element of the list (and confirmed that none of them are lucky). Though we can return early if the answer is `True`:\n",
              "\n",
              "```python\n",
              "def has_lucky_number(nums):\n",
              "    for num in nums:\n",
              "        if num % 7 == 0:\n",
              "            return True\n",
              "    # We've exhausted the list without finding a lucky number\n",
              "    return False\n",
              "```\n",
              "\n",
              "Here's a one-line version using a list comprehension with Python's `any` function (you can read about what it does by calling `help(any)`):\n",
              "\n",
              "```python\n",
              "def has_lucky_number(nums):\n",
              "    return any([num % 7 == 0 for num in nums])\n",
              "```"
            ]
          },
          "metadata": {
            "tags": []
          }
        }
      ]
    },
    {
      "cell_type": "code",
      "metadata": {
        "id": "Hq3rb-0PXoaA",
        "colab_type": "code",
        "colab": {}
      },
      "source": [
        "#q1.hint()\n",
        "#q1.solution()"
      ],
      "execution_count": 0,
      "outputs": []
    },
    {
      "cell_type": "markdown",
      "metadata": {
        "id": "ztg1ljneXoaH",
        "colab_type": "text"
      },
      "source": [
        "## 2.\n",
        "\n",
        "### a.\n",
        "Look at the Python expression below. What do you think we'll get when we run it? When you've made your prediction, uncomment the code and run the cell to see if you were right."
      ]
    },
    {
      "cell_type": "code",
      "metadata": {
        "id": "S4-6xRamXoaK",
        "colab_type": "code",
        "outputId": "d2502942-073d-442f-f7b9-918201826a6f",
        "colab": {
          "base_uri": "https://localhost:8080/",
          "height": 161
        }
      },
      "source": [
        "[1, 2, 3, 4] > 2"
      ],
      "execution_count": 0,
      "outputs": [
        {
          "output_type": "error",
          "ename": "TypeError",
          "evalue": "ignored",
          "traceback": [
            "\u001b[0;31m---------------------------------------------------------------------------\u001b[0m",
            "\u001b[0;31mTypeError\u001b[0m                                 Traceback (most recent call last)",
            "\u001b[0;32m<ipython-input-7-6f064fcfe2b9>\u001b[0m in \u001b[0;36m<module>\u001b[0;34m()\u001b[0m\n\u001b[0;32m----> 1\u001b[0;31m \u001b[0;34m[\u001b[0m\u001b[0;36m1\u001b[0m\u001b[0;34m,\u001b[0m \u001b[0;36m2\u001b[0m\u001b[0;34m,\u001b[0m \u001b[0;36m3\u001b[0m\u001b[0;34m,\u001b[0m \u001b[0;36m4\u001b[0m\u001b[0;34m]\u001b[0m \u001b[0;34m>\u001b[0m \u001b[0;36m2\u001b[0m\u001b[0;34m\u001b[0m\u001b[0;34m\u001b[0m\u001b[0m\n\u001b[0m",
            "\u001b[0;31mTypeError\u001b[0m: '>' not supported between instances of 'list' and 'int'"
          ]
        }
      ]
    },
    {
      "cell_type": "markdown",
      "metadata": {
        "id": "smv3IM3LXoaS",
        "colab_type": "text"
      },
      "source": [
        "### b\n",
        "R and Python have some libraries (like numpy and pandas) compare each element of the list to 2 (i.e. do an 'element-wise' comparison) and give us a list of booleans like `[False, False, True, True]`. \n",
        "\n",
        "Implement a function that reproduces this behaviour, returning a list of booleans corresponding to whether the corresponding element is greater than n.\n"
      ]
    },
    {
      "cell_type": "code",
      "metadata": {
        "id": "Yp2YWn45XoaT",
        "colab_type": "code",
        "outputId": "8ebc6153-2a2e-49e8-a448-dd7771e268a6",
        "colab": {
          "base_uri": "https://localhost:8080/",
          "height": 284
        }
      },
      "source": [
        "def elementwise_greater_than(L, thresh):\n",
        "    \"\"\"Return a list with the same length as L, where the value at index i is \n",
        "    True if L[i] is greater than thresh, and False otherwise.\n",
        "    \n",
        "    >>> elementwise_greater_than([1, 2, 3, 4], 2)\n",
        "    [False, False, True, True]\n",
        "    \"\"\"\n",
        "    output = []\n",
        "    i = 0 \n",
        "    while i < len(L):\n",
        "      if L[i] > thresh:\n",
        "          output.append(True)\n",
        "      else:\n",
        "          output.append(False)\n",
        "      i = i +1\n",
        "\n",
        "    return output\n",
        "\n",
        "# Check your answer\n",
        "q2.check()"
      ],
      "execution_count": 0,
      "outputs": [
        {
          "output_type": "display_data",
          "data": {
            "application/javascript": [
              "parent.postMessage({\"jupyterEvent\": \"custom.exercise_interaction\", \"data\": {\"outcomeType\": 1, \"valueTowardsCompletion\": 0.25, \"interactionType\": 1, \"questionType\": 2, \"questionId\": \"2_ElementWiseComparison\", \"learnToolsVersion\": \"0.3.4\", \"failureMessage\": \"\", \"exceptionClass\": \"\", \"trace\": \"\"}}, \"*\")"
            ],
            "text/plain": [
              "<IPython.core.display.Javascript object>"
            ]
          },
          "metadata": {
            "tags": []
          }
        },
        {
          "output_type": "display_data",
          "data": {
            "text/markdown": "<span style=\"color:#33cc33\">Correct:</span> \n\nHere's one solution:\n```python\ndef elementwise_greater_than(L, thresh):\n    res = []\n    for ele in L:\n        res.append(ele > thresh)\n    return res\n```\n\nAnd here's the list comprehension version:\n```python\ndef elementwise_greater_than(L, thresh):\n    return [ele > thresh for ele in L]\n```\n",
            "text/plain": [
              "Correct: \n",
              "\n",
              "Here's one solution:\n",
              "```python\n",
              "def elementwise_greater_than(L, thresh):\n",
              "    res = []\n",
              "    for ele in L:\n",
              "        res.append(ele > thresh)\n",
              "    return res\n",
              "```\n",
              "\n",
              "And here's the list comprehension version:\n",
              "```python\n",
              "def elementwise_greater_than(L, thresh):\n",
              "    return [ele > thresh for ele in L]\n",
              "```"
            ]
          },
          "metadata": {
            "tags": []
          }
        }
      ]
    },
    {
      "cell_type": "code",
      "metadata": {
        "id": "n--juJlAXoaa",
        "colab_type": "code",
        "colab": {}
      },
      "source": [
        "#q2.solution()"
      ],
      "execution_count": 0,
      "outputs": []
    },
    {
      "cell_type": "markdown",
      "metadata": {
        "id": "Mp5KBNe7Xoaj",
        "colab_type": "text"
      },
      "source": [
        "## 3.\n",
        "\n",
        "Complete the body of the function below according to its docstring."
      ]
    },
    {
      "cell_type": "code",
      "metadata": {
        "id": "kMHvAKBJXoal",
        "colab_type": "code",
        "outputId": "e17b2159-ff52-47f9-cd8c-33d2724bc78a",
        "colab": {
          "base_uri": "https://localhost:8080/",
          "height": 538
        }
      },
      "source": [
        "def menu_is_boring(meals):\n",
        "    \"\"\"Given a list of meals served over some period of time, return True if the\n",
        "    same meal has ever been served two days in a row, and False otherwise.\n",
        "    \"\"\"\n",
        "    day =1\n",
        "    print(len(meals))\n",
        "    while (day < len(meals)):\n",
        "      if meals[day]==meals[day-1]:\n",
        "          print('Boring due to day ', day)\n",
        "          return True\n",
        "      else:\n",
        "        day = day +1\n",
        "    print('Finish check at value ', day, 'with False')\n",
        "    return False\n",
        "# Check your answer\n",
        "q3.check()"
      ],
      "execution_count": 0,
      "outputs": [
        {
          "output_type": "stream",
          "text": [
            "2\n",
            "Finish check at value  2 with False\n",
            "4\n",
            "Finish check at value  4 with False\n",
            "6\n",
            "Boring due to day  3\n",
            "2\n",
            "Boring due to day  1\n",
            "2\n",
            "Finish check at value  2 with False\n",
            "1\n",
            "Finish check at value  1 with False\n",
            "0\n",
            "Finish check at value  1 with False\n"
          ],
          "name": "stdout"
        },
        {
          "output_type": "display_data",
          "data": {
            "application/javascript": [
              "parent.postMessage({\"jupyterEvent\": \"custom.exercise_interaction\", \"data\": {\"outcomeType\": 1, \"valueTowardsCompletion\": 0.25, \"interactionType\": 1, \"questionType\": 2, \"questionId\": \"3_BoringMenu\", \"learnToolsVersion\": \"0.3.4\", \"failureMessage\": \"\", \"exceptionClass\": \"\", \"trace\": \"\"}}, \"*\")"
            ],
            "text/plain": [
              "<IPython.core.display.Javascript object>"
            ]
          },
          "metadata": {
            "tags": []
          }
        },
        {
          "output_type": "display_data",
          "data": {
            "text/markdown": "<span style=\"color:#33cc33\">Correct:</span> \n\n\n\n```python\ndef menu_is_boring(meals):\n    # Iterate over all indices of the list, except the last one\n    for i in range(len(meals)-1):\n        if meals[i] == meals[i+1]:\n            return True\n    return False\n```\n\nThe key to our solution is the call to `range`. `range(len(meals))` would give us all the indices of `meals`. If we had used that range, the last iteration of the loop would be comparing the last element to the element after it, which is... `IndexError`! `range(len(meals)-1)` gives us all the indices except the index of the last element.\n\nBut don't we need to check if `meals` is empty? Turns out that `range(0) == range(-1)` - they're both empty. So if `meals` has length 0 or 1, we just won't do any iterations of our for loop.\n",
            "text/plain": [
              "Correct: \n",
              "\n",
              "\n",
              "\n",
              "```python\n",
              "def menu_is_boring(meals):\n",
              "    # Iterate over all indices of the list, except the last one\n",
              "    for i in range(len(meals)-1):\n",
              "        if meals[i] == meals[i+1]:\n",
              "            return True\n",
              "    return False\n",
              "```\n",
              "\n",
              "The key to our solution is the call to `range`. `range(len(meals))` would give us all the indices of `meals`. If we had used that range, the last iteration of the loop would be comparing the last element to the element after it, which is... `IndexError`! `range(len(meals)-1)` gives us all the indices except the index of the last element.\n",
              "\n",
              "But don't we need to check if `meals` is empty? Turns out that `range(0) == range(-1)` - they're both empty. So if `meals` has length 0 or 1, we just won't do any iterations of our for loop."
            ]
          },
          "metadata": {
            "tags": []
          }
        }
      ]
    },
    {
      "cell_type": "code",
      "metadata": {
        "id": "ByJqimIqXoar",
        "colab_type": "code",
        "colab": {}
      },
      "source": [
        "#q3.hint()\n",
        "#q3.solution()"
      ],
      "execution_count": 0,
      "outputs": []
    },
    {
      "cell_type": "markdown",
      "metadata": {
        "id": "QY0V2hnRXoay",
        "colab_type": "text"
      },
      "source": [
        "## 4.\n",
        "\n",
        "At the casino there's a slot machine. You can get a result from the slot machine by calling `play_slot_machine()`. The number it returns is your winnings in dollars. Usually it returns 0.  But sometimes you'll get lucky and get a big payday. Try running it below:"
      ]
    },
    {
      "cell_type": "code",
      "metadata": {
        "id": "kJjtkaJiXoa0",
        "colab_type": "code",
        "colab": {}
      },
      "source": [
        "play_slot_machine()"
      ],
      "execution_count": 0,
      "outputs": []
    },
    {
      "cell_type": "markdown",
      "metadata": {
        "id": "FDqHd8-2Xoa8",
        "colab_type": "text"
      },
      "source": [
        "Each play costs $1. On average, how much money can you expect to gain (or lose) every time you play the machine?  The casino keeps it a secret, but you can estimate the average value of each pull using a technique called the **Monte Carlo method**. To estimate the average outcome, we simulate the scenario many times, and return the average result.\n",
        "\n",
        "Complete the following function to calculate the average value per play of the slot machine."
      ]
    },
    {
      "cell_type": "code",
      "metadata": {
        "id": "PpHOkTAeXoa9",
        "colab_type": "code",
        "colab": {}
      },
      "source": [
        "def estimate_average_slot_payout(n_runs):\n",
        "    \"\"\"Run the slot machine n_runs times and return the average net profit per run.\n",
        "    Example calls (note that return value is nondeterministic!):\n",
        "    >>> estimate_average_slot_payout(1)\n",
        "    -1\n",
        "    >>> estimate_average_slot_payout(1)\n",
        "    0.5\n",
        "    \"\"\"\n",
        "    pass"
      ],
      "execution_count": 0,
      "outputs": []
    },
    {
      "cell_type": "markdown",
      "metadata": {
        "id": "UCUn5E-SXobE",
        "colab_type": "text"
      },
      "source": [
        "When you think you know the expected value per spin, run the code cell below"
      ]
    },
    {
      "cell_type": "code",
      "metadata": {
        "id": "kSc3i2PlXobH",
        "colab_type": "code",
        "colab": {}
      },
      "source": [
        "# Check your answer\n",
        "q4.solution()"
      ],
      "execution_count": 0,
      "outputs": []
    },
    {
      "cell_type": "markdown",
      "metadata": {
        "id": "lVVHacMtXobO",
        "colab_type": "text"
      },
      "source": [
        "---\n",
        "**[Week 1 - Python](https://radu-enuca.gitbook.io/ml-challenge/python)**\n",
        "\n",
        "*Have questions or comments? Visit the ML Challenge Mattermost Channel.*"
      ]
    }
  ]
}